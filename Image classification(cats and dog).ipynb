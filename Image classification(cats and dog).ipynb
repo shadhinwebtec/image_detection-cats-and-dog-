{
 "cells": [
  {
   "cell_type": "code",
   "execution_count": 43,
   "id": "ff9c87a0",
   "metadata": {},
   "outputs": [],
   "source": [
    "import os\n",
    "import numpy as np\n",
    "from PIL import Image, ImageTk\n",
    "from io import BytesIO\n",
    "import requests\n",
    "from tkinter import Tk,Label,NW,Canvas,Entry,Button\n",
    "\n",
    "\n",
    "import tensorflow as tf\n",
    "from keras.models import Sequential,load_model\n",
    "from keras.layers import Conv2D,MaxPooling2D,Flatten,Dense\n",
    "from keras.preprocessing.image import ImageDataGenerator,load_img,img_to_array\n",
    "from keras.preprocessing import image as image_utils"
   ]
  },
  {
   "cell_type": "code",
   "execution_count": 44,
   "id": "17562915",
   "metadata": {},
   "outputs": [],
   "source": [
    "model = Sequential()\n",
    "\n",
    "\n",
    "model.add(Conv2D(32, (3, 3), input_shape = (128, 128, 3), activation = \"relu\")) #1st input layer\n",
    "model.add(MaxPooling2D(pool_size = (2, 2)))\n",
    "\n",
    "model.add(Conv2D(64, (3, 3), activation = \"relu\")) #1st hidden Layer\n",
    "model.add(MaxPooling2D(pool_size = (2, 2)))\n",
    "\n",
    "model.add(Conv2D(128, (3, 3), activation = \"relu\")) #2nd hidden Layer\n",
    "model.add(MaxPooling2D(pool_size = (2, 2)))\n",
    "\n",
    "model.add(Flatten())\n",
    "\n",
    "model.add(Dense(128, activation=\"relu\")) #output layer\n",
    "model.add(Dense(2, activation=\"softmax\"))#output layer"
   ]
  },
  {
   "cell_type": "code",
   "execution_count": 45,
   "id": "e1d4c8ae",
   "metadata": {},
   "outputs": [],
   "source": [
    "model.compile(optimizer=\"adam\",\n",
    "             loss = \"categorical_crossentropy\",\n",
    "             metrics = [\"accuracy\"])"
   ]
  },
  {
   "cell_type": "code",
   "execution_count": 46,
   "id": "d2f3bf54",
   "metadata": {},
   "outputs": [],
   "source": [
    "train_datagen = ImageDataGenerator(rescale = 1.0/255,\n",
    "                                  shear_range = 0.2,\n",
    "                                  zoom_range = 0.2,\n",
    "                                  horizontal_flip= True)"
   ]
  },
  {
   "cell_type": "code",
   "execution_count": 47,
   "id": "169ca406",
   "metadata": {},
   "outputs": [],
   "source": [
    "test_datagen = ImageDataGenerator(rescale = 1.0/255)"
   ]
  },
  {
   "cell_type": "code",
   "execution_count": 48,
   "id": "67585e87",
   "metadata": {},
   "outputs": [
    {
     "name": "stdout",
     "output_type": "stream",
     "text": [
      "Found 8005 images belonging to 2 classes.\n",
      "Found 2023 images belonging to 2 classes.\n"
     ]
    }
   ],
   "source": [
    "training_datasets = train_datagen.flow_from_directory(\"Cats_and_Dog_Dataset/training_set/training_set\", target_size= (128, 128), batch_size = 32, class_mode = \"categorical\")\n",
    "testing_datasets = test_datagen.flow_from_directory(\"Cats_and_Dog_Dataset/test_set/test_set\", target_size=(128, 128), batch_size=32, class_mode=\"categorical\")"
   ]
  },
  {
   "cell_type": "code",
   "execution_count": 49,
   "id": "c5d4280c",
   "metadata": {},
   "outputs": [
    {
     "name": "stdout",
     "output_type": "stream",
     "text": [
      "Epoch 1/3\n",
      "125/125 [==============================] - 71s 562ms/step - loss: 0.7102 - accuracy: 0.5069 - val_loss: 0.6659 - val_accuracy: 0.5752\n",
      "Epoch 2/3\n",
      "125/125 [==============================] - 71s 568ms/step - loss: 0.6672 - accuracy: 0.5930 - val_loss: 0.6317 - val_accuracy: 0.6162\n",
      "Epoch 3/3\n",
      "125/125 [==============================] - 70s 563ms/step - loss: 0.6176 - accuracy: 0.6537 - val_loss: 0.5899 - val_accuracy: 0.7041\n"
     ]
    },
    {
     "data": {
      "text/plain": [
       "<keras.callbacks.History at 0x23b9c8813a0>"
      ]
     },
     "execution_count": 49,
     "metadata": {},
     "output_type": "execute_result"
    }
   ],
   "source": [
    "model.fit(training_datasets, steps_per_epoch=4000/32, epochs=3, validation_data=testing_datasets,validation_steps =  1000/32)"
   ]
  },
  {
   "cell_type": "code",
   "execution_count": 50,
   "id": "55c67a18",
   "metadata": {},
   "outputs": [],
   "source": [
    "model.save(\"model_new/model.h5\")\n",
    "model.save_weights(\"model_new/model_weights.h5\")"
   ]
  },
  {
   "cell_type": "code",
   "execution_count": 51,
   "id": "c451421c",
   "metadata": {},
   "outputs": [],
   "source": [
    "image_width, image_height = 128, 128\n",
    "model_path = \"model_new/model.h5\"\n",
    "model_wight_path = \"model_new/model_weights.h5\"\n",
    "\n",
    "final_model = load_model(model_path) \n",
    "final_model.load_weights(model_wight_path)"
   ]
  },
  {
   "cell_type": "code",
   "execution_count": 52,
   "id": "17407fb8",
   "metadata": {},
   "outputs": [],
   "source": [
    "url = ''\n",
    "window = Tk()\n",
    "window.title(\"Image Classification Using CNN\") # plt.title()\n",
    "window.geometry(\"800x800\")\n",
    "label = Label(window, text = \"Please Enter your Custom URL\", font = (\"Halvetica\", 16))\n",
    "label.pack()\n",
    "\n",
    "\n",
    "def Enter():\n",
    "    global url\n",
    "    label.configure()\n",
    "    url = (User_input.get())\n",
    "    print(url)\n",
    "    \n",
    "    \n",
    "    \n",
    "    response = requests.get(url)\n",
    "    test_image = Image.open(BytesIO(response.content))\n",
    "    put_image = test_image.resize((400, 400))\n",
    "    test_image = test_image.resize((128, 128))\n",
    "    \n",
    "    \n",
    "    img = ImageTk.PhotoImage(put_image)\n",
    "    pic = Label(image = img)\n",
    "    pic.pack()\n",
    "    \n",
    "    pic.image = img\n",
    "    test_image = image_utils.img_to_array(test_image)\n",
    "    test_image = np.expand_dims(test_image, axis = 0)\n",
    "    \n",
    "    results = model.predict_on_batch(test_image)\n",
    "    \n",
    "    \n",
    "    if results[0][0] == 1:\n",
    "        res = \"Dogs\"\n",
    "    elif  results[0][1] == 1:\n",
    "        res = \"Cats\"\n",
    "    \n",
    "        \n",
    "        \n",
    "    output = Label(window, text = \"Predicted Results: \"+ res, font = (\"Halvetica\", 16))\n",
    "    output.pack()"
   ]
  },
  {
   "cell_type": "code",
   "execution_count": 53,
   "id": "c2871e2a",
   "metadata": {},
   "outputs": [
    {
     "name": "stdout",
     "output_type": "stream",
     "text": [
      "https://www.imagesjunction.com/images/img/cat_images.jpg\n",
      "https://www.imagesjunction.com/images/img/cat_images.jpg\n"
     ]
    }
   ],
   "source": [
    "User_input = Entry()\n",
    "User_input.pack()\n",
    "button = Button(window, text = \"Detect Image\", font = (\"Halvetica\", 16), command = Enter)\n",
    "button.pack()\n",
    "window.mainloop()"
   ]
  },
  {
   "cell_type": "code",
   "execution_count": null,
   "id": "cd977378",
   "metadata": {},
   "outputs": [],
   "source": []
  }
 ],
 "metadata": {
  "kernelspec": {
   "display_name": "Python 3 (ipykernel)",
   "language": "python",
   "name": "python3"
  },
  "language_info": {
   "codemirror_mode": {
    "name": "ipython",
    "version": 3
   },
   "file_extension": ".py",
   "mimetype": "text/x-python",
   "name": "python",
   "nbconvert_exporter": "python",
   "pygments_lexer": "ipython3",
   "version": "3.8.12"
  }
 },
 "nbformat": 4,
 "nbformat_minor": 5
}
